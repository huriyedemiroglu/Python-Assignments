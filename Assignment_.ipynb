{
  "nbformat": 4,
  "nbformat_minor": 0,
  "metadata": {
    "colab": {
      "name": "Assignment - ",
      "provenance": [],
      "authorship_tag": "ABX9TyNSFb0S5LS3yDC6ty/ohLT8",
      "include_colab_link": true
    },
    "kernelspec": {
      "name": "python3",
      "display_name": "Python 3"
    },
    "language_info": {
      "name": "python"
    }
  },
  "cells": [
    {
      "cell_type": "markdown",
      "metadata": {
        "id": "view-in-github",
        "colab_type": "text"
      },
      "source": [
        "<a href=\"https://colab.research.google.com/github/huriyedemiroglu/Python-Assignments/blob/main/Assignment_.ipynb\" target=\"_parent\"><img src=\"https://colab.research.google.com/assets/colab-badge.svg\" alt=\"Open In Colab\"/></a>"
      ]
    },
    {
      "cell_type": "markdown",
      "metadata": {
        "id": "mVNSZiFNYZXw"
      },
      "source": [
        ""
      ]
    },
    {
      "cell_type": "code",
      "metadata": {
        "colab": {
          "base_uri": "https://localhost:8080/",
          "height": 35
        },
        "id": "OoT-zPcKY8L8",
        "outputId": "3b6e639c-f030-438a-cba2-3541c4f936c7"
      },
      "source": [
        "pwd"
      ],
      "execution_count": null,
      "outputs": [
        {
          "output_type": "execute_result",
          "data": {
            "application/vnd.google.colaboratory.intrinsic+json": {
              "type": "string"
            },
            "text/plain": [
              "'/content'"
            ]
          },
          "metadata": {},
          "execution_count": 2
        }
      ]
    },
    {
      "cell_type": "code",
      "metadata": {
        "colab": {
          "base_uri": "https://localhost:8080/"
        },
        "id": "45TrBaF9Iypw",
        "outputId": "5d42dffd-4591-4aad-fd91-52537b2732e1"
      },
      "source": [
        "my_name = \"Joseph\"\n",
        "first_name = input(\"Please input your name to see the password= \")\n",
        "\n",
        "if first_name.title() == my_name:\n",
        "  print(f\"Hello Joseph! The password is: W@12\")\n",
        "else:\n",
        "  print(f\"Hello {first_name}! See you later.\")"
      ],
      "execution_count": null,
      "outputs": [
        {
          "output_type": "stream",
          "name": "stdout",
          "text": [
            "Please input your name to see the password= Joseph\n",
            "Hello Joseph! The password is: W@12\n"
          ]
        }
      ]
    },
    {
      "cell_type": "code",
      "metadata": {
        "id": "MuMBjrSuKFNr"
      },
      "source": [
        ""
      ],
      "execution_count": null,
      "outputs": []
    },
    {
      "cell_type": "code",
      "metadata": {
        "id": "tRgmoUrJMJIr"
      },
      "source": [
        "age = input(\"Are you a cigarette addict  older than 75 years old? Yes or No: \")\n",
        "\n",
        "chronic = input(\"Do you have a severe chronic disease? Yes or No: \")\n",
        "\n",
        "immune = input(\"Is your immune system too weak? Yes or No: \")\n",
        "\n",
        "if age  == \"Yes\" and chronic == \"Yes\" or immune == \"Yes\" :\n",
        "  \n",
        "    print(\"You are in risky group.\")\n",
        "      \n",
        "else:\n",
        "    print(\"You are not in risky group.\")"
      ],
      "execution_count": null,
      "outputs": []
    },
    {
      "cell_type": "code",
      "metadata": {
        "id": "5oLYEeTJMdX8",
        "colab": {
          "base_uri": "https://localhost:8080/"
        },
        "outputId": "5979c027-4486-4ff0-bcd8-bbaa2da0b50f"
      },
      "source": [
        "number = int(input(\"Enter a number: \"))\n",
        "control = 0\n",
        "for i in range(2,number):\n",
        "\n",
        "  if number % i == 0:\n",
        "    control = 1\n",
        "\n",
        "if control == 1:\n",
        "  print(\"Your number is not prime number\")\n",
        "else:\n",
        "  print(\"Your number is a prime number\")"
      ],
      "execution_count": null,
      "outputs": [
        {
          "output_type": "stream",
          "name": "stdout",
          "text": [
            "Enter a number: 5\n",
            "Your number is prime number\n"
          ]
        }
      ]
    },
    {
      "cell_type": "code",
      "metadata": {
        "id": "XqlNGrqTcqYb"
      },
      "source": [
        ""
      ],
      "execution_count": null,
      "outputs": []
    },
    {
      "cell_type": "code",
      "metadata": {
        "id": "gM2HT_WEfwCz"
      },
      "source": [
        "#Armstrong numbers"
      ],
      "execution_count": null,
      "outputs": []
    },
    {
      "cell_type": "code",
      "metadata": {
        "colab": {
          "base_uri": "https://localhost:8080/"
        },
        "id": "8_3SI9cSK1cZ",
        "outputId": "130ea1da-3525-4127-d940-cc3e2717381b"
      },
      "source": [
        "while True :\n",
        "  \n",
        "  number= input(\"enter a positive integer number: \")\n",
        "  digits = len(number)\n",
        "  summ = 0\n",
        "  if not number.isdigit() :\n",
        "    print(number, \"is invalid entry. Enter valid input\")\n",
        "\n",
        "  elif int(number) >= 0 :\n",
        "    for i in range(digits):\n",
        "        summ = summ +int(number[i]) ** digits\n",
        "\n",
        "  if summ == int(number):\n",
        "    print(number, \"is an Armstrong number\")\n",
        "    break\n",
        "\n",
        "  else: \n",
        "    print(number, \"is not an Armstrong number\")\n",
        "    break"
      ],
      "execution_count": null,
      "outputs": [
        {
          "output_type": "stream",
          "name": "stdout",
          "text": [
            "enter a positive integer number: 407\n",
            "407 is an Armstrong number\n"
          ]
        }
      ]
    },
    {
      "cell_type": "code",
      "metadata": {
        "colab": {
          "base_uri": "https://localhost:8080/"
        },
        "id": "J4I7QZ4nTLJg",
        "outputId": "396aa136-ed1e-4e1e-85ea-626b8465027f"
      },
      "source": [
        "while True :\n",
        "    \n",
        "    number = input(\"enter a positive integer number :\")\n",
        "    digits = len(number)\n",
        "    summ = 0\n",
        "    \n",
        "    if not number.isdigit() :\n",
        "        print(number, \" is invalid entry. Enter valid input.\")\n",
        "        \n",
        "    elif int(number) >= 0 :\n",
        "        for i in range(digits) :\n",
        "            \n",
        "            summ = summ + int(number[i]) ** digits\n",
        "        \n",
        "        if summ == int(number):\n",
        "            print(number, \" is an Armstrong Number\")\n",
        "            break\n",
        "            \n",
        "        else :\n",
        "            print(number, \"is not an Armstrong Number\")\n",
        "            break\n",
        "        \n",
        "        \n"
      ],
      "execution_count": null,
      "outputs": [
        {
          "output_type": "stream",
          "name": "stdout",
          "text": [
            "enter a positive integer number :63105425988599693916\n",
            "63105425988599693916  is an Armstrong Number\n"
          ]
        }
      ]
    },
    {
      "cell_type": "code",
      "metadata": {
        "colab": {
          "base_uri": "https://localhost:8080/"
        },
        "id": "qm1qhxYfT0Ks",
        "outputId": "67b4d49b-4990-4594-cd3d-cc375de2e41b"
      },
      "source": [
        "n= int(input('enter a positive number to check if it is a Prime number'))\n",
        "counter = 0\n",
        "for i in range(1,n+1) :\n",
        "  if n%i == 0 :\n",
        "    counter +=1\n",
        "\n",
        "if (n == 0) or (n == 1) or (counter >= 3) :\n",
        "  print(n, \"is not a prime number\")\n",
        "\n",
        "else :\n",
        "  print(n, \"is a prime number\")"
      ],
      "execution_count": null,
      "outputs": [
        {
          "output_type": "stream",
          "name": "stdout",
          "text": [
            "enter a positive number to check if it is a Prime number333667\n",
            "333667 is a prime number\n"
          ]
        }
      ]
    },
    {
      "cell_type": "code",
      "metadata": {
        "colab": {
          "base_uri": "https://localhost:8080/"
        },
        "id": "r3Or2vrVL85E",
        "outputId": "31cf9656-753d-48ac-90a1-962b315e3a05"
      },
      "source": [
        "def fibonacci():\n",
        "    num = int(input(\"How many numbers that generates?:\"))\n",
        "    i = 1\n",
        "    if num == 0:\n",
        "        fib = []\n",
        "    elif num == 1:\n",
        "        fib = [1]\n",
        "    elif num == 2:\n",
        "        fib = [1,1]\n",
        "    elif num > 2:\n",
        "        fib = [1,1]\n",
        "        while i < (num - 1):\n",
        "            fib.append(fib[i] + fib[i-1])\n",
        "            i += 1\n",
        "    return fib\n",
        "print(fibonacci())\n"
      ],
      "execution_count": null,
      "outputs": [
        {
          "output_type": "stream",
          "name": "stdout",
          "text": [
            "How many numbers that generates?:10\n",
            "[1, 1, 2, 3, 5, 8, 13, 21, 34, 55]\n"
          ]
        }
      ]
    },
    {
      "cell_type": "code",
      "metadata": {
        "id": "s3Gf4AxlQdHj"
      },
      "source": [
        ""
      ],
      "execution_count": null,
      "outputs": []
    },
    {
      "cell_type": "code",
      "metadata": {
        "colab": {
          "base_uri": "https://localhost:8080/"
        },
        "id": "5gtdaqWAPCHk",
        "outputId": "08ffc680-b13a-41dc-88b8-c7e11e56b0c7"
      },
      "source": [
        "num = list(range(1,55))\n",
        "print(num)"
      ],
      "execution_count": null,
      "outputs": [
        {
          "output_type": "stream",
          "name": "stdout",
          "text": [
            "[1, 2, 3, 4, 5, 6, 7, 8, 9, 10, 11, 12, 13, 14, 15, 16, 17, 18, 19, 20, 21, 22, 23, 24, 25, 26, 27, 28, 29, 30, 31, 32, 33, 34, 35, 36, 37, 38, 39, 40, 41, 42, 43, 44, 45, 46, 47, 48, 49, 50, 51, 52, 53, 54]\n"
          ]
        }
      ]
    },
    {
      "cell_type": "code",
      "metadata": {
        "colab": {
          "base_uri": "https://localhost:8080/"
        },
        "id": "GQ3JQE04CkC6",
        "outputId": "244b64f2-8b93-407f-ade5-61b72488e748"
      },
      "source": [
        "my_list = list(range(3,100))\n",
        "prime =[]\n",
        "\n",
        "for i in my_list :\n",
        "   counter = 0\n",
        "   for x in range(2,i):\n",
        "       if (i%x == 0):\n",
        "          counter+=1\n",
        "   if counter ==1 :\n",
        "        prime.append(i)\n",
        "print(prime)\n"
      ],
      "execution_count": null,
      "outputs": [
        {
          "output_type": "stream",
          "name": "stdout",
          "text": [
            "[4, 9, 25, 49]\n"
          ]
        }
      ]
    },
    {
      "cell_type": "code",
      "metadata": {
        "id": "5vrcOgK_N8cD"
      },
      "source": [
        "for j in range(2,100):\n",
        "    sayac = 0\n",
        "    for i in range(2,j):\n",
        "        if(j%i==0):\n",
        "          sayac =+1\n",
        "    if sayac == 0 :\n",
        "      print(j)"
      ],
      "execution_count": null,
      "outputs": []
    },
    {
      "cell_type": "code",
      "metadata": {
        "colab": {
          "base_uri": "https://localhost:8080/",
          "height": 35
        },
        "id": "QWMUU38GSJQ5",
        "outputId": "c0905f5c-21a1-4c01-e37b-dd7b6d1fb459"
      },
      "source": [
        "pwd\n"
      ],
      "execution_count": null,
      "outputs": [
        {
          "output_type": "execute_result",
          "data": {
            "application/vnd.google.colaboratory.intrinsic+json": {
              "type": "string"
            },
            "text/plain": [
              "'/content'"
            ]
          },
          "metadata": {},
          "execution_count": 1
        }
      ]
    },
    {
      "cell_type": "code",
      "metadata": {
        "colab": {
          "base_uri": "https://localhost:8080/"
        },
        "id": "AwemQZl3Sh33",
        "outputId": "6fa0ef4c-e375-4d52-8c1e-8066771b3aeb"
      },
      "source": [
        "def fizz_buzz(num):\n",
        "    return[\"FizzBuzz\"\n",
        "        if not n%15\n",
        "        else \"Buzz\" if not n%5\n",
        "        else \"Fizz\" if not n%3\n",
        "        else n\n",
        "        for n in range(1, num+1)]\n",
        "print(fizz_buzz(8))  \n",
        "\n",
        "\n",
        "\n"
      ],
      "execution_count": null,
      "outputs": [
        {
          "output_type": "stream",
          "name": "stdout",
          "text": [
            "[1, 2, 'Fizz', 4, 'Buzz', 'Fizz', 7, 8]\n"
          ]
        }
      ]
    },
    {
      "cell_type": "code",
      "metadata": {
        "id": "wym1Hm9uS3sz"
      },
      "source": [
        "def fizz_buzz(maximum):\n",
        "    lst = list(range(1,maximum+1))\n",
        "    for i in lst:\n",
        "        if not i % 15:\n",
        "            lst[lst.index(i)] = \"FizzBuzz\"\n",
        "        elif not i % 5:\n",
        "            lst[lst.index(i)] = \"Buzz\"\n",
        "        elif not i % 3:\n",
        "            lst[lst.index(i)] = \"Fizz\"\n",
        "    return lst "
      ],
      "execution_count": null,
      "outputs": []
    },
    {
      "cell_type": "code",
      "metadata": {
        "id": "sO1PUk4oHF_U",
        "colab": {
          "base_uri": "https://localhost:8080/"
        },
        "outputId": "454400c1-068f-4398-be6f-a420f4ec0d1c"
      },
      "source": [
        "liste = list(range(1,101))\n",
        "for i in liste:\n",
        "   \n",
        "    if  i%15 == 0 :\n",
        "     print(\"FizzBuzz\")\n",
        "    elif i%5 == 0 :\n",
        "     print(\"Buzz\")\n",
        "    elif i%3 == 0 :\n",
        "     print(\"Fizz\")\n",
        "    else:\n",
        "     print(i)\n",
        "  \n",
        "\n"
      ],
      "execution_count": 56,
      "outputs": [
        {
          "output_type": "stream",
          "name": "stdout",
          "text": [
            "1\n",
            "2\n",
            "Fizz\n",
            "4\n",
            "Buzz\n",
            "Fizz\n",
            "7\n",
            "8\n",
            "Fizz\n",
            "Buzz\n",
            "11\n",
            "Fizz\n",
            "13\n",
            "14\n",
            "FizzBuzz\n",
            "16\n",
            "17\n",
            "Fizz\n",
            "19\n",
            "Buzz\n",
            "Fizz\n",
            "22\n",
            "23\n",
            "Fizz\n",
            "Buzz\n",
            "26\n",
            "Fizz\n",
            "28\n",
            "29\n",
            "FizzBuzz\n",
            "31\n",
            "32\n",
            "Fizz\n",
            "34\n",
            "Buzz\n",
            "Fizz\n",
            "37\n",
            "38\n",
            "Fizz\n",
            "Buzz\n",
            "41\n",
            "Fizz\n",
            "43\n",
            "44\n",
            "FizzBuzz\n",
            "46\n",
            "47\n",
            "Fizz\n",
            "49\n",
            "Buzz\n",
            "Fizz\n",
            "52\n",
            "53\n",
            "Fizz\n",
            "Buzz\n",
            "56\n",
            "Fizz\n",
            "58\n",
            "59\n",
            "FizzBuzz\n",
            "61\n",
            "62\n",
            "Fizz\n",
            "64\n",
            "Buzz\n",
            "Fizz\n",
            "67\n",
            "68\n",
            "Fizz\n",
            "Buzz\n",
            "71\n",
            "Fizz\n",
            "73\n",
            "74\n",
            "FizzBuzz\n",
            "76\n",
            "77\n",
            "Fizz\n",
            "79\n",
            "Buzz\n",
            "Fizz\n",
            "82\n",
            "83\n",
            "Fizz\n",
            "Buzz\n",
            "86\n",
            "Fizz\n",
            "88\n",
            "89\n",
            "FizzBuzz\n",
            "91\n",
            "92\n",
            "Fizz\n",
            "94\n",
            "Buzz\n",
            "Fizz\n",
            "97\n",
            "98\n",
            "Fizz\n",
            "Buzz\n"
          ]
        }
      ]
    },
    {
      "cell_type": "code",
      "metadata": {
        "colab": {
          "base_uri": "https://localhost:8080/"
        },
        "id": "T82PkwwFPNOB",
        "outputId": "80c5ba0d-0083-4fc6-b20d-3caa170b60c7"
      },
      "source": [
        "liste = list(range(1,101))\n",
        "for i in liste:\n",
        "   \n",
        "    if  i%3==0 :\n",
        "     print(\"Fizz\")\n",
        "    elif i%5==0  :\n",
        "     print(\"Buzz\")\n",
        "    elif i%15==0 :\n",
        "     print(\"FizzBuzz\")\n",
        "    else:\n",
        "     print(i)\n",
        "  "
      ],
      "execution_count": 51,
      "outputs": [
        {
          "output_type": "stream",
          "name": "stdout",
          "text": [
            "1\n",
            "2\n",
            "Fizz\n",
            "4\n",
            "Buzz\n",
            "Fizz\n",
            "7\n",
            "8\n",
            "Fizz\n",
            "Buzz\n",
            "11\n",
            "Fizz\n",
            "13\n",
            "14\n",
            "Fizz\n",
            "16\n",
            "17\n",
            "Fizz\n",
            "19\n",
            "Buzz\n",
            "Fizz\n",
            "22\n",
            "23\n",
            "Fizz\n",
            "Buzz\n",
            "26\n",
            "Fizz\n",
            "28\n",
            "29\n",
            "Fizz\n",
            "31\n",
            "32\n",
            "Fizz\n",
            "34\n",
            "Buzz\n",
            "Fizz\n",
            "37\n",
            "38\n",
            "Fizz\n",
            "Buzz\n",
            "41\n",
            "Fizz\n",
            "43\n",
            "44\n",
            "Fizz\n",
            "46\n",
            "47\n",
            "Fizz\n",
            "49\n",
            "Buzz\n",
            "Fizz\n",
            "52\n",
            "53\n",
            "Fizz\n",
            "Buzz\n",
            "56\n",
            "Fizz\n",
            "58\n",
            "59\n",
            "Fizz\n",
            "61\n",
            "62\n",
            "Fizz\n",
            "64\n",
            "Buzz\n",
            "Fizz\n",
            "67\n",
            "68\n",
            "Fizz\n",
            "Buzz\n",
            "71\n",
            "Fizz\n",
            "73\n",
            "74\n",
            "Fizz\n",
            "76\n",
            "77\n",
            "Fizz\n",
            "79\n",
            "Buzz\n",
            "Fizz\n",
            "82\n",
            "83\n",
            "Fizz\n",
            "Buzz\n",
            "86\n",
            "Fizz\n",
            "88\n",
            "89\n",
            "Fizz\n",
            "91\n",
            "92\n",
            "Fizz\n",
            "94\n",
            "Buzz\n",
            "Fizz\n",
            "97\n",
            "98\n",
            "Fizz\n",
            "Buzz\n"
          ]
        }
      ]
    },
    {
      "cell_type": "code",
      "source": [
        "['fizzbuzz' if x%15==0 else x for x in range(1, 101)]"
      ],
      "metadata": {
        "colab": {
          "base_uri": "https://localhost:8080/"
        },
        "id": "CvsIn0YcRf_0",
        "outputId": "0ac40374-b334-4872-9fe7-11678e2767e5"
      },
      "execution_count": 52,
      "outputs": [
        {
          "output_type": "execute_result",
          "data": {
            "text/plain": [
              "[1,\n",
              " 2,\n",
              " 3,\n",
              " 4,\n",
              " 5,\n",
              " 6,\n",
              " 7,\n",
              " 8,\n",
              " 9,\n",
              " 10,\n",
              " 11,\n",
              " 12,\n",
              " 13,\n",
              " 14,\n",
              " 'fizzbuzz',\n",
              " 16,\n",
              " 17,\n",
              " 18,\n",
              " 19,\n",
              " 20,\n",
              " 21,\n",
              " 22,\n",
              " 23,\n",
              " 24,\n",
              " 25,\n",
              " 26,\n",
              " 27,\n",
              " 28,\n",
              " 29,\n",
              " 'fizzbuzz',\n",
              " 31,\n",
              " 32,\n",
              " 33,\n",
              " 34,\n",
              " 35,\n",
              " 36,\n",
              " 37,\n",
              " 38,\n",
              " 39,\n",
              " 40,\n",
              " 41,\n",
              " 42,\n",
              " 43,\n",
              " 44,\n",
              " 'fizzbuzz',\n",
              " 46,\n",
              " 47,\n",
              " 48,\n",
              " 49,\n",
              " 50,\n",
              " 51,\n",
              " 52,\n",
              " 53,\n",
              " 54,\n",
              " 55,\n",
              " 56,\n",
              " 57,\n",
              " 58,\n",
              " 59,\n",
              " 'fizzbuzz',\n",
              " 61,\n",
              " 62,\n",
              " 63,\n",
              " 64,\n",
              " 65,\n",
              " 66,\n",
              " 67,\n",
              " 68,\n",
              " 69,\n",
              " 70,\n",
              " 71,\n",
              " 72,\n",
              " 73,\n",
              " 74,\n",
              " 'fizzbuzz',\n",
              " 76,\n",
              " 77,\n",
              " 78,\n",
              " 79,\n",
              " 80,\n",
              " 81,\n",
              " 82,\n",
              " 83,\n",
              " 84,\n",
              " 85,\n",
              " 86,\n",
              " 87,\n",
              " 88,\n",
              " 89,\n",
              " 'fizzbuzz',\n",
              " 91,\n",
              " 92,\n",
              " 93,\n",
              " 94,\n",
              " 95,\n",
              " 96,\n",
              " 97,\n",
              " 98,\n",
              " 99,\n",
              " 100]"
            ]
          },
          "metadata": {},
          "execution_count": 52
        }
      ]
    },
    {
      "cell_type": "code",
      "metadata": {
        "id": "FUvtEjpmHaaa"
      },
      "source": [
        ""
      ],
      "execution_count": null,
      "outputs": []
    }
  ]
}