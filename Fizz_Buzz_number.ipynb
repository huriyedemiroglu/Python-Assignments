{
  "nbformat": 4,
  "nbformat_minor": 0,
  "metadata": {
    "colab": {
      "name": "Fizz-Buzz number",
      "provenance": [],
      "authorship_tag": "ABX9TyP3xXb74LnOR2I9LYvHYZGS",
      "include_colab_link": true
    },
    "kernelspec": {
      "name": "python3",
      "display_name": "Python 3"
    },
    "language_info": {
      "name": "python"
    }
  },
  "cells": [
    {
      "cell_type": "markdown",
      "metadata": {
        "id": "view-in-github",
        "colab_type": "text"
      },
      "source": [
        "<a href=\"https://colab.research.google.com/github/huriyedemiroglu/Python-Assignments/blob/main/Fizz_Buzz_number.ipynb\" target=\"_parent\"><img src=\"https://colab.research.google.com/assets/colab-badge.svg\" alt=\"Open In Colab\"/></a>"
      ]
    },
    {
      "cell_type": "code",
      "execution_count": null,
      "metadata": {
        "id": "yPA2adDnS1VK"
      },
      "outputs": [],
      "source": [
        "liste = list(range(1,101))\n",
        "for i in liste:\n",
        "   \n",
        "    if  i%15 == 0 :\n",
        "     print(\"FizzBuzz\")\n",
        "    elif i%5 == 0 :\n",
        "     print(\"Buzz\")\n",
        "    elif i%3 == 0 :\n",
        "     print(\"Fizz\")\n",
        "    else:\n",
        "     print(i)"
      ]
    },
    {
      "cell_type": "code",
      "source": [
        ""
      ],
      "metadata": {
        "id": "00m04DNLS9mB"
      },
      "execution_count": null,
      "outputs": []
    }
  ]
}