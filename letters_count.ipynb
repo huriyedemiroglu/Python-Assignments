{
  "nbformat": 4,
  "nbformat_minor": 0,
  "metadata": {
    "colab": {
      "name": "letters count",
      "provenance": [],
      "authorship_tag": "ABX9TyOaakSyagRCYnOoq4z1ProT",
      "include_colab_link": true
    },
    "kernelspec": {
      "name": "python3",
      "display_name": "Python 3"
    },
    "language_info": {
      "name": "python"
    }
  },
  "cells": [
    {
      "cell_type": "markdown",
      "metadata": {
        "id": "view-in-github",
        "colab_type": "text"
      },
      "source": [
        "<a href=\"https://colab.research.google.com/github/huriyedemiroglu/Python-Assignments/blob/main/letters_count.ipynb\" target=\"_parent\"><img src=\"https://colab.research.google.com/assets/colab-badge.svg\" alt=\"Open In Colab\"/></a>"
      ]
    },
    {
      "cell_type": "code",
      "execution_count": 1,
      "metadata": {
        "colab": {
          "base_uri": "https://localhost:8080/"
        },
        "id": "Ic8G4D312aND",
        "outputId": "05a6c7e0-3a99-428f-da24-5d77e954ef25"
      },
      "outputs": [
        {
          "output_type": "stream",
          "name": "stdout",
          "text": [
            "please enter your sentence:hippopotamus\n",
            "{'h': 1, 'i': 1, 'p': 3, 'o': 2, 't': 1, 'a': 1, 'm': 1, 'u': 1, 's': 1}\n"
          ]
        }
      ],
      "source": [
        "dic={}\n",
        "s=(input(\"please enter your sentence:\"))\n",
        "for i in s:\n",
        "    dic[i]=s.count(i)\n",
        "print(dic)\n"
      ]
    },
    {
      "cell_type": "code",
      "source": [
        ""
      ],
      "metadata": {
        "id": "3KJacnaD2utu"
      },
      "execution_count": null,
      "outputs": []
    }
  ]
}