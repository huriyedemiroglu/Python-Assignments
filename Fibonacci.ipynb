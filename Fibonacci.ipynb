{
  "nbformat": 4,
  "nbformat_minor": 0,
  "metadata": {
    "colab": {
      "name": "Fibonacci",
      "provenance": [],
      "authorship_tag": "ABX9TyN2c0tQwhJbW81W8Tzb8v2l",
      "include_colab_link": true
    },
    "kernelspec": {
      "name": "python3",
      "display_name": "Python 3"
    },
    "language_info": {
      "name": "python"
    }
  },
  "cells": [
    {
      "cell_type": "markdown",
      "metadata": {
        "id": "view-in-github",
        "colab_type": "text"
      },
      "source": [
        "<a href=\"https://colab.research.google.com/github/huriyedemiroglu/Python-Assignments/blob/main/Fibonacci.ipynb\" target=\"_parent\"><img src=\"https://colab.research.google.com/assets/colab-badge.svg\" alt=\"Open In Colab\"/></a>"
      ]
    },
    {
      "cell_type": "code",
      "metadata": {
        "id": "-joqvI8MQfSK"
      },
      "source": [
        "def fibonacci():\n",
        "    num = int(input(\"How many numbers that generates?:\"))\n",
        "    i = 1\n",
        "    if num == 0:\n",
        "        fib = []\n",
        "    elif num == 1:\n",
        "        fib = [1]\n",
        "    elif num == 2:\n",
        "        fib = [1,1]\n",
        "    elif num > 2:\n",
        "        fib = [1,1]\n",
        "        while i < (num - 1):\n",
        "            fib.append(fib[i] + fib[i-1])\n",
        "            i += 1\n",
        "    return fib\n",
        "print(fibonacci())\n"
      ],
      "execution_count": null,
      "outputs": []
    }
  ]
}