{
  "nbformat": 4,
  "nbformat_minor": 0,
  "metadata": {
    "colab": {
      "name": "prime_number",
      "provenance": [],
      "authorship_tag": "ABX9TyPa8Z+lo/DgSTKXmzog49mL",
      "include_colab_link": true
    },
    "kernelspec": {
      "name": "python3",
      "display_name": "Python 3"
    },
    "language_info": {
      "name": "python"
    }
  },
  "cells": [
    {
      "cell_type": "markdown",
      "metadata": {
        "id": "view-in-github",
        "colab_type": "text"
      },
      "source": [
        "<a href=\"https://colab.research.google.com/github/huriyedemiroglu/Python-Assignments/blob/main/prime_number.ipynb\" target=\"_parent\"><img src=\"https://colab.research.google.com/assets/colab-badge.svg\" alt=\"Open In Colab\"/></a>"
      ]
    },
    {
      "cell_type": "code",
      "metadata": {
        "id": "ZcXc53wpSW_F"
      },
      "source": [
        "for j in range(2,100):\n",
        "    sayac = 0\n",
        "    for i in range(2,j):\n",
        "        if(j%i==0):\n",
        "          sayac =+1\n",
        "    if sayac == 0 :\n",
        "      print(j)"
      ],
      "execution_count": null,
      "outputs": []
    }
  ]
}